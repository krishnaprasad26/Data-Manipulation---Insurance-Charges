{
 "cells": [
  {
   "cell_type": "markdown",
   "id": "e2303222",
   "metadata": {
    "_cell_guid": "b1076dfc-b9ad-4769-8c92-a6c4dae69d19",
    "_uuid": "8f2839f25d086af736a60e9eeb907d3b93b6e0e5",
    "papermill": {
     "duration": 0.009329,
     "end_time": "2024-06-25T06:01:30.487241",
     "exception": false,
     "start_time": "2024-06-25T06:01:30.477912",
     "status": "completed"
    },
    "tags": []
   },
   "source": [
    "# Introduction\n",
    "\n",
    "In this project, the objective is to develop a regression model to predict insurance charges using the provided dataset, insurance.csv. The primary evaluation metric for the model's performance will be the R-Squared Score, which indicates the proportion of the variance in the dependent variable that is predictable from the independent variables.\n",
    "\n",
    "**Objective:**\n",
    "* Building a regression model using the insurance.csv dataset to predict charges.\n",
    "* Evaluating the accuracy of the model using the R-Squared Score.\n",
    "* Applying the trained model to estimate charges for unseen data in validation_dataset.csv.\n",
    "\n",
    "**Data Preparation:**\n",
    "Exploring and preprocessing the insurance.csv dataset to handle missing values, categorical variables, and any outliers.\n",
    "\n",
    "**Model Development:**\n",
    "* Training a regression model using the prepared dataset to predict charges.\n",
    "* Evaluating the model's performance using the R-Squared Score.\n",
    "* Ensuring that the R-Squared Score exceeds the threshold of 0.65 for the model to be considered successful.\n",
    "\n",
    "**Model Application:**\n",
    "* Utilizing the trained regression model to predict charges for the validation_dataset.csv.\n",
    "* Storing the predictions as a new column named predicted_charges in the validation dataset.\n",
    "* Handling any negative prediction values by replacing them with the minimum basic charge, set at 1000.\n",
    "\n",
    "By following these steps, the aim is to build an accurate regression model that effectively predicts insurance charges, thus aiding in decision-making processes within the insurance industry."
   ]
  },
  {
   "cell_type": "markdown",
   "id": "688d9f4f",
   "metadata": {
    "papermill": {
     "duration": 0.008061,
     "end_time": "2024-06-25T06:01:30.503953",
     "exception": false,
     "start_time": "2024-06-25T06:01:30.495892",
     "status": "completed"
    },
    "tags": []
   },
   "source": [
    "# Dataset Description\n",
    "\n",
    "* **Age:** This shows how old the main person getting insurance is.\n",
    "* **Sex:** It tells us if the insurance buyer is male or female.\n",
    "* **BMI:** This number gives an idea of how healthy a person's weight is based on their height and weight.\n",
    "* **Children:** It tells us how many kids or dependents are covered by the insurance.\n",
    "* **Smoker:** This lets us know if the person getting insurance smokes or not.\n",
    "* **Region:** It shows where the person lives, split into four different areas in the US.\n",
    "* **Charges:** This is how much money the insurance company bills for each person's medical costs."
   ]
  },
  {
   "cell_type": "markdown",
   "id": "f4e6b94f",
   "metadata": {
    "papermill": {
     "duration": 0.008401,
     "end_time": "2024-06-25T06:01:30.520706",
     "exception": false,
     "start_time": "2024-06-25T06:01:30.512305",
     "status": "completed"
    },
    "tags": []
   },
   "source": [
    "# Importing Libraries"
   ]
  },
  {
   "cell_type": "code",
   "execution_count": 1,
   "id": "77851b31",
   "metadata": {
    "execution": {
     "iopub.execute_input": "2024-06-25T06:01:30.539128Z",
     "iopub.status.busy": "2024-06-25T06:01:30.538642Z",
     "iopub.status.idle": "2024-06-25T06:01:33.029203Z",
     "shell.execute_reply": "2024-06-25T06:01:33.027955Z"
    },
    "papermill": {
     "duration": 2.503263,
     "end_time": "2024-06-25T06:01:33.032233",
     "exception": false,
     "start_time": "2024-06-25T06:01:30.528970",
     "status": "completed"
    },
    "tags": []
   },
   "outputs": [],
   "source": [
    "# Importing Libraries\n",
    "\n",
    "import pandas as pd\n",
    "from sklearn.linear_model import LinearRegression\n",
    "from sklearn.model_selection import cross_val_score\n",
    "from sklearn.preprocessing import StandardScaler\n",
    "from sklearn.pipeline import Pipeline\n",
    "import numpy as np"
   ]
  },
  {
   "cell_type": "markdown",
   "id": "a4af682e",
   "metadata": {
    "papermill": {
     "duration": 0.008443,
     "end_time": "2024-06-25T06:01:33.049551",
     "exception": false,
     "start_time": "2024-06-25T06:01:33.041108",
     "status": "completed"
    },
    "tags": []
   },
   "source": [
    "# Load Dataset"
   ]
  },
  {
   "cell_type": "code",
   "execution_count": 2,
   "id": "7cf871c8",
   "metadata": {
    "execution": {
     "iopub.execute_input": "2024-06-25T06:01:33.067888Z",
     "iopub.status.busy": "2024-06-25T06:01:33.067317Z",
     "iopub.status.idle": "2024-06-25T06:01:33.091781Z",
     "shell.execute_reply": "2024-06-25T06:01:33.090290Z"
    },
    "papermill": {
     "duration": 0.036979,
     "end_time": "2024-06-25T06:01:33.094745",
     "exception": false,
     "start_time": "2024-06-25T06:01:33.057766",
     "status": "completed"
    },
    "tags": []
   },
   "outputs": [],
   "source": [
    "insurance = pd.read_csv('/kaggle/input/main-insurance/insurance.csv')"
   ]
  },
  {
   "cell_type": "code",
   "execution_count": 3,
   "id": "c75bf353",
   "metadata": {
    "execution": {
     "iopub.execute_input": "2024-06-25T06:01:33.113673Z",
     "iopub.status.busy": "2024-06-25T06:01:33.113122Z",
     "iopub.status.idle": "2024-06-25T06:01:33.137396Z",
     "shell.execute_reply": "2024-06-25T06:01:33.136278Z"
    },
    "papermill": {
     "duration": 0.036557,
     "end_time": "2024-06-25T06:01:33.139855",
     "exception": false,
     "start_time": "2024-06-25T06:01:33.103298",
     "status": "completed"
    },
    "tags": []
   },
   "outputs": [
    {
     "data": {
      "text/html": [
       "<div>\n",
       "<style scoped>\n",
       "    .dataframe tbody tr th:only-of-type {\n",
       "        vertical-align: middle;\n",
       "    }\n",
       "\n",
       "    .dataframe tbody tr th {\n",
       "        vertical-align: top;\n",
       "    }\n",
       "\n",
       "    .dataframe thead th {\n",
       "        text-align: right;\n",
       "    }\n",
       "</style>\n",
       "<table border=\"1\" class=\"dataframe\">\n",
       "  <thead>\n",
       "    <tr style=\"text-align: right;\">\n",
       "      <th></th>\n",
       "      <th>age</th>\n",
       "      <th>sex</th>\n",
       "      <th>bmi</th>\n",
       "      <th>children</th>\n",
       "      <th>smoker</th>\n",
       "      <th>region</th>\n",
       "      <th>charges</th>\n",
       "    </tr>\n",
       "  </thead>\n",
       "  <tbody>\n",
       "    <tr>\n",
       "      <th>0</th>\n",
       "      <td>19.0</td>\n",
       "      <td>female</td>\n",
       "      <td>27.900</td>\n",
       "      <td>0.0</td>\n",
       "      <td>yes</td>\n",
       "      <td>southwest</td>\n",
       "      <td>16884.924</td>\n",
       "    </tr>\n",
       "    <tr>\n",
       "      <th>1</th>\n",
       "      <td>18.0</td>\n",
       "      <td>male</td>\n",
       "      <td>33.770</td>\n",
       "      <td>1.0</td>\n",
       "      <td>no</td>\n",
       "      <td>Southeast</td>\n",
       "      <td>1725.5523</td>\n",
       "    </tr>\n",
       "    <tr>\n",
       "      <th>2</th>\n",
       "      <td>28.0</td>\n",
       "      <td>male</td>\n",
       "      <td>33.000</td>\n",
       "      <td>3.0</td>\n",
       "      <td>no</td>\n",
       "      <td>southeast</td>\n",
       "      <td>$4449.462</td>\n",
       "    </tr>\n",
       "    <tr>\n",
       "      <th>3</th>\n",
       "      <td>33.0</td>\n",
       "      <td>male</td>\n",
       "      <td>22.705</td>\n",
       "      <td>0.0</td>\n",
       "      <td>no</td>\n",
       "      <td>northwest</td>\n",
       "      <td>$21984.47061</td>\n",
       "    </tr>\n",
       "    <tr>\n",
       "      <th>4</th>\n",
       "      <td>32.0</td>\n",
       "      <td>male</td>\n",
       "      <td>28.880</td>\n",
       "      <td>0.0</td>\n",
       "      <td>no</td>\n",
       "      <td>northwest</td>\n",
       "      <td>$3866.8552</td>\n",
       "    </tr>\n",
       "  </tbody>\n",
       "</table>\n",
       "</div>"
      ],
      "text/plain": [
       "    age     sex     bmi  children smoker     region       charges\n",
       "0  19.0  female  27.900       0.0    yes  southwest     16884.924\n",
       "1  18.0    male  33.770       1.0     no  Southeast     1725.5523\n",
       "2  28.0    male  33.000       3.0     no  southeast     $4449.462\n",
       "3  33.0    male  22.705       0.0     no  northwest  $21984.47061\n",
       "4  32.0    male  28.880       0.0     no  northwest    $3866.8552"
      ]
     },
     "execution_count": 3,
     "metadata": {},
     "output_type": "execute_result"
    }
   ],
   "source": [
    "# display the first few rows of the insurance dataset\n",
    "\n",
    "insurance.head()"
   ]
  },
  {
   "cell_type": "code",
   "execution_count": 4,
   "id": "89b6a402",
   "metadata": {
    "execution": {
     "iopub.execute_input": "2024-06-25T06:01:33.159122Z",
     "iopub.status.busy": "2024-06-25T06:01:33.158704Z",
     "iopub.status.idle": "2024-06-25T06:01:33.165496Z",
     "shell.execute_reply": "2024-06-25T06:01:33.164357Z"
    },
    "papermill": {
     "duration": 0.01911,
     "end_time": "2024-06-25T06:01:33.167784",
     "exception": false,
     "start_time": "2024-06-25T06:01:33.148674",
     "status": "completed"
    },
    "tags": []
   },
   "outputs": [
    {
     "data": {
      "text/plain": [
       "(1338, 7)"
      ]
     },
     "execution_count": 4,
     "metadata": {},
     "output_type": "execute_result"
    }
   ],
   "source": [
    "# Initial checks on the insurance dataset\n",
    "insurance.shape"
   ]
  },
  {
   "cell_type": "code",
   "execution_count": 5,
   "id": "7e67c056",
   "metadata": {
    "execution": {
     "iopub.execute_input": "2024-06-25T06:01:33.188087Z",
     "iopub.status.busy": "2024-06-25T06:01:33.187657Z",
     "iopub.status.idle": "2024-06-25T06:01:33.198142Z",
     "shell.execute_reply": "2024-06-25T06:01:33.197092Z"
    },
    "papermill": {
     "duration": 0.024021,
     "end_time": "2024-06-25T06:01:33.200510",
     "exception": false,
     "start_time": "2024-06-25T06:01:33.176489",
     "status": "completed"
    },
    "tags": []
   },
   "outputs": [
    {
     "data": {
      "text/plain": [
       "age         66\n",
       "sex         66\n",
       "bmi         66\n",
       "children    66\n",
       "smoker      66\n",
       "region      66\n",
       "charges     54\n",
       "dtype: int64"
      ]
     },
     "execution_count": 5,
     "metadata": {},
     "output_type": "execute_result"
    }
   ],
   "source": [
    "insurance.isnull().sum()"
   ]
  },
  {
   "cell_type": "markdown",
   "id": "f5a50be0",
   "metadata": {
    "papermill": {
     "duration": 0.008483,
     "end_time": "2024-06-25T06:01:33.218070",
     "exception": false,
     "start_time": "2024-06-25T06:01:33.209587",
     "status": "completed"
    },
    "tags": []
   },
   "source": [
    "# Cleaning Dataset"
   ]
  },
  {
   "cell_type": "code",
   "execution_count": 6,
   "id": "70696f08",
   "metadata": {
    "execution": {
     "iopub.execute_input": "2024-06-25T06:01:33.237648Z",
     "iopub.status.busy": "2024-06-25T06:01:33.237240Z",
     "iopub.status.idle": "2024-06-25T06:01:33.245308Z",
     "shell.execute_reply": "2024-06-25T06:01:33.244222Z"
    },
    "papermill": {
     "duration": 0.02066,
     "end_time": "2024-06-25T06:01:33.247707",
     "exception": false,
     "start_time": "2024-06-25T06:01:33.227047",
     "status": "completed"
    },
    "tags": []
   },
   "outputs": [],
   "source": [
    "def clean_dataset(insurance):\n",
    "    # Replace gender values\n",
    "    insurance['sex'] = insurance['sex'].replace({'M': 'male', 'man': 'male', 'F': 'female', 'woman': 'female'})\n",
    "    \n",
    "    # Remove dollar sign and convert charges to float\n",
    "    insurance['charges'] = insurance['charges'].replace({'\\$': ''}, regex=True).astype(float)\n",
    "    \n",
    "    # Filter out rows with negative age values\n",
    "    insurance = insurance[insurance['age'] > 0]\n",
    "    \n",
    "    # Set negative children values to zero using .loc\n",
    "    insurance.loc[insurance['children'] < 0, 'children'] = 0\n",
    "    \n",
    "    # Convert region values to lowercase using .loc\n",
    "    insurance.loc[:, 'region'] = insurance['region'].str.lower()\n",
    "\n",
    "    # Drop rows with any missing values\n",
    "    insurance = insurance.dropna()\n",
    "\n",
    "    return insurance\n"
   ]
  },
  {
   "cell_type": "markdown",
   "id": "28e2f335",
   "metadata": {
    "papermill": {
     "duration": 0.008552,
     "end_time": "2024-06-25T06:01:33.265219",
     "exception": false,
     "start_time": "2024-06-25T06:01:33.256667",
     "status": "completed"
    },
    "tags": []
   },
   "source": [
    "Firstly, the function replaces various representations of gender ('M', 'man', 'F', 'woman') with standard representations ('male', 'female') in the sex column. Then, it removes the dollar sign from the charges column and converts the values to floating-point numbers. Next, it filters out rows where the 'age' column has negative values, effectively removing them from the dataset.\n",
    "\n",
    "Following that, it utilizes a lambda function to set any negative values in the children column to zero. This lambda function iterates through each value in the 'children' column, replacing any negative value with zero.\n",
    "\n",
    "Subsequently, it converts all values in the region column to lowercase, ensuring consistency in the format of region names. Lastly, the function drops any rows with missing values from the cleaned dataset before returning the modified DataFrame."
   ]
  },
  {
   "cell_type": "markdown",
   "id": "b40b7dd4",
   "metadata": {
    "papermill": {
     "duration": 0.008491,
     "end_time": "2024-06-25T06:01:33.282656",
     "exception": false,
     "start_time": "2024-06-25T06:01:33.274165",
     "status": "completed"
    },
    "tags": []
   },
   "source": [
    "# Creating and Evaluating Regression Model"
   ]
  },
  {
   "cell_type": "code",
   "execution_count": 7,
   "id": "269bf3b6",
   "metadata": {
    "execution": {
     "iopub.execute_input": "2024-06-25T06:01:33.302953Z",
     "iopub.status.busy": "2024-06-25T06:01:33.301975Z",
     "iopub.status.idle": "2024-06-25T06:01:33.312494Z",
     "shell.execute_reply": "2024-06-25T06:01:33.311411Z"
    },
    "papermill": {
     "duration": 0.023375,
     "end_time": "2024-06-25T06:01:33.314955",
     "exception": false,
     "start_time": "2024-06-25T06:01:33.291580",
     "status": "completed"
    },
    "tags": []
   },
   "outputs": [],
   "source": [
    "def create_and_evaluate_regression_model(insurance):\n",
    "    # Extracting features and target variable\n",
    "    X = insurance.drop('charges', axis=1)\n",
    "    y = insurance['charges']\n",
    "    \n",
    "    # Defining categorical and numerical features\n",
    "    categorical_features = ['sex', 'smoker', 'region']\n",
    "    numerical_features = ['age', 'bmi', 'children']\n",
    "    \n",
    "    # Encoding categorical variables as dummy variables\n",
    "    X_categorical = pd.get_dummies(X[categorical_features], drop_first=True)\n",
    "    \n",
    "    # Combining numerical features with dummy variables\n",
    "    X_processed = pd.concat([X[numerical_features], X_categorical], axis=1)\n",
    "    \n",
    "    # Scaling numerical features\n",
    "    scaler = StandardScaler()\n",
    "    X_scaled = scaler.fit_transform(X_processed)\n",
    "    \n",
    "    # Creating a linear regression model\n",
    "    lin_reg = LinearRegression()\n",
    "    \n",
    "    # Constructing a pipeline with scaling and linear regression\n",
    "    steps = [(\"scaler\", scaler), (\"lin_reg\", lin_reg)]\n",
    "    insurance_model_pipeline = Pipeline(steps)\n",
    "    \n",
    "    # Fitting the model to the data\n",
    "    insurance_model_pipeline.fit(X_scaled, y)\n",
    "    \n",
    "    # Evaluating the model using cross-validation\n",
    "    mse_scores = -cross_val_score(insurance_model_pipeline, X_scaled, y, cv=5, scoring='neg_mean_squared_error')\n",
    "    r2_scores = cross_val_score(insurance_model_pipeline, X_scaled, y, cv=5, scoring='r2')\n",
    "    mean_mse = np.mean(mse_scores)\n",
    "    mean_r2 = np.mean(r2_scores)\n",
    "    \n",
    "    return insurance_model_pipeline, mean_mse, mean_r2\n"
   ]
  },
  {
   "cell_type": "markdown",
   "id": "826e48f1",
   "metadata": {
    "papermill": {
     "duration": 0.008677,
     "end_time": "2024-06-25T06:01:33.332681",
     "exception": false,
     "start_time": "2024-06-25T06:01:33.324004",
     "status": "completed"
    },
    "tags": []
   },
   "source": [
    "The create_and_evaluate_regression_model function coordinates the process of building and assessing a linear regression model for predicting insurance charges. It initiates by segregating the dataset into features and the target variable, where categorical and numerical features are identified separately. Categorical features undergo one-hot encoding to convert them into numerical form, while numerical features are standardized using the StandardScaler to ensure uniform scales across all features. A linear regression model is instantiated and combined with feature scaling in a pipeline. This pipeline facilitates seamless integration of preprocessing steps and model training. Subsequently, the model is trained on the scaled features and evaluated using k-fold cross-validation to gauge its generalization performance. Evaluation metrics such as mean squared error (MSE) and R-squared (R2) scores are computed to provide insights into the model's predictive accuracy and goodness of fit. Ultimately, the function returns a tuple comprising the trained pipeline object along with the mean MSE and mean R2 scores, encapsulating the trained model and its performance metrics for further analysis and interpretation."
   ]
  },
  {
   "cell_type": "code",
   "execution_count": 8,
   "id": "23831935",
   "metadata": {
    "execution": {
     "iopub.execute_input": "2024-06-25T06:01:33.352311Z",
     "iopub.status.busy": "2024-06-25T06:01:33.351862Z",
     "iopub.status.idle": "2024-06-25T06:01:33.460630Z",
     "shell.execute_reply": "2024-06-25T06:01:33.459257Z"
    },
    "papermill": {
     "duration": 0.12206,
     "end_time": "2024-06-25T06:01:33.463630",
     "exception": false,
     "start_time": "2024-06-25T06:01:33.341570",
     "status": "completed"
    },
    "tags": []
   },
   "outputs": [
    {
     "name": "stdout",
     "output_type": "stream",
     "text": [
      "Evaluation Results:\n",
      "  - Mean MSE: 37431001.52191915\n",
      "  - Mean R2: 0.7450511466263761\n"
     ]
    }
   ],
   "source": [
    "# Clean the insurance dataset and store the cleaned data\n",
    "cleaned_insurance = clean_dataset(insurance)\n",
    "\n",
    "# Use the cleaned data to create and evaluate a regression model\n",
    "insurance_model, mean_mse, mean_r2 = create_and_evaluate_regression_model(cleaned_insurance)\n",
    "\n",
    "# Print the evaluation results\n",
    "print(\"Evaluation Results:\")\n",
    "print(f\"  - Mean MSE: {mean_mse}\")\n",
    "print(f\"  - Mean R2: {mean_r2}\")\n"
   ]
  },
  {
   "cell_type": "markdown",
   "id": "0559041d",
   "metadata": {
    "papermill": {
     "duration": 0.008605,
     "end_time": "2024-06-25T06:01:33.481517",
     "exception": false,
     "start_time": "2024-06-25T06:01:33.472912",
     "status": "completed"
    },
    "tags": []
   },
   "source": [
    "**Mean Mean Squared Error (MSE):** The average value of the squared differences between the actual charges and the predicted charges across all cross-validation folds. In this case, the mean MSE is approximately 37,431,001.52.\n",
    "\n",
    "**Mean R-Squared (R2) Score:** The average R-squared value obtained from cross-validation. R-squared is a measure of how well the regression model fits the actual data. It indicates the proportion of the variance in the dependent variable (insurance charges) that is predictable from the independent variables (features) in the model. The mean R2 score is approximately 0.745, suggesting that the model explains approximately 74.5% of the variance in the insurance charges."
   ]
  },
  {
   "cell_type": "markdown",
   "id": "30486014",
   "metadata": {
    "papermill": {
     "duration": 0.00857,
     "end_time": "2024-06-25T06:01:33.499045",
     "exception": false,
     "start_time": "2024-06-25T06:01:33.490475",
     "status": "completed"
    },
    "tags": []
   },
   "source": [
    "# Prediction"
   ]
  },
  {
   "cell_type": "code",
   "execution_count": 9,
   "id": "b9aaf772",
   "metadata": {
    "execution": {
     "iopub.execute_input": "2024-06-25T06:01:33.518989Z",
     "iopub.status.busy": "2024-06-25T06:01:33.518558Z",
     "iopub.status.idle": "2024-06-25T06:01:33.529448Z",
     "shell.execute_reply": "2024-06-25T06:01:33.528337Z"
    },
    "papermill": {
     "duration": 0.024009,
     "end_time": "2024-06-25T06:01:33.532220",
     "exception": false,
     "start_time": "2024-06-25T06:01:33.508211",
     "status": "completed"
    },
    "tags": []
   },
   "outputs": [],
   "source": [
    "validation_data = pd.read_csv('/kaggle/input/insurance/validation_dataset.csv')"
   ]
  },
  {
   "cell_type": "code",
   "execution_count": 10,
   "id": "e9d98c7b",
   "metadata": {
    "execution": {
     "iopub.execute_input": "2024-06-25T06:01:33.552084Z",
     "iopub.status.busy": "2024-06-25T06:01:33.551672Z",
     "iopub.status.idle": "2024-06-25T06:01:33.562070Z",
     "shell.execute_reply": "2024-06-25T06:01:33.561001Z"
    },
    "papermill": {
     "duration": 0.023233,
     "end_time": "2024-06-25T06:01:33.564495",
     "exception": false,
     "start_time": "2024-06-25T06:01:33.541262",
     "status": "completed"
    },
    "tags": []
   },
   "outputs": [],
   "source": [
    "validation_data_processed = pd.get_dummies(validation_data, columns=['sex', 'smoker', 'region'], drop_first=True)\n"
   ]
  },
  {
   "cell_type": "code",
   "execution_count": 11,
   "id": "ed40f181",
   "metadata": {
    "execution": {
     "iopub.execute_input": "2024-06-25T06:01:33.584310Z",
     "iopub.status.busy": "2024-06-25T06:01:33.583868Z",
     "iopub.status.idle": "2024-06-25T06:01:33.588963Z",
     "shell.execute_reply": "2024-06-25T06:01:33.587854Z"
    },
    "papermill": {
     "duration": 0.017647,
     "end_time": "2024-06-25T06:01:33.591270",
     "exception": false,
     "start_time": "2024-06-25T06:01:33.573623",
     "status": "completed"
    },
    "tags": []
   },
   "outputs": [],
   "source": [
    "import warnings\n",
    "\n",
    "# Suppress all warnings\n",
    "warnings.filterwarnings(\"ignore\")\n"
   ]
  },
  {
   "cell_type": "code",
   "execution_count": 12,
   "id": "5fd3b867",
   "metadata": {
    "execution": {
     "iopub.execute_input": "2024-06-25T06:01:33.611475Z",
     "iopub.status.busy": "2024-06-25T06:01:33.610503Z",
     "iopub.status.idle": "2024-06-25T06:01:33.618209Z",
     "shell.execute_reply": "2024-06-25T06:01:33.617065Z"
    },
    "papermill": {
     "duration": 0.020433,
     "end_time": "2024-06-25T06:01:33.620661",
     "exception": false,
     "start_time": "2024-06-25T06:01:33.600228",
     "status": "completed"
    },
    "tags": []
   },
   "outputs": [],
   "source": [
    "# Make predictions using the trained model\n",
    "validation_predictions = insurance_model.predict(validation_data_processed)"
   ]
  },
  {
   "cell_type": "code",
   "execution_count": 13,
   "id": "a18f6559",
   "metadata": {
    "execution": {
     "iopub.execute_input": "2024-06-25T06:01:33.642023Z",
     "iopub.status.busy": "2024-06-25T06:01:33.641620Z",
     "iopub.status.idle": "2024-06-25T06:01:33.647797Z",
     "shell.execute_reply": "2024-06-25T06:01:33.646643Z"
    },
    "papermill": {
     "duration": 0.018769,
     "end_time": "2024-06-25T06:01:33.650130",
     "exception": false,
     "start_time": "2024-06-25T06:01:33.631361",
     "status": "completed"
    },
    "tags": []
   },
   "outputs": [],
   "source": [
    "# Add predicted charges to the validation data\n",
    "validation_data['predicted_charges'] = validation_predictions"
   ]
  },
  {
   "cell_type": "code",
   "execution_count": 14,
   "id": "c8913ef3",
   "metadata": {
    "execution": {
     "iopub.execute_input": "2024-06-25T06:01:33.670221Z",
     "iopub.status.busy": "2024-06-25T06:01:33.669419Z",
     "iopub.status.idle": "2024-06-25T06:01:33.684985Z",
     "shell.execute_reply": "2024-06-25T06:01:33.683855Z"
    },
    "papermill": {
     "duration": 0.028302,
     "end_time": "2024-06-25T06:01:33.687345",
     "exception": false,
     "start_time": "2024-06-25T06:01:33.659043",
     "status": "completed"
    },
    "tags": []
   },
   "outputs": [
    {
     "data": {
      "text/html": [
       "<div>\n",
       "<style scoped>\n",
       "    .dataframe tbody tr th:only-of-type {\n",
       "        vertical-align: middle;\n",
       "    }\n",
       "\n",
       "    .dataframe tbody tr th {\n",
       "        vertical-align: top;\n",
       "    }\n",
       "\n",
       "    .dataframe thead th {\n",
       "        text-align: right;\n",
       "    }\n",
       "</style>\n",
       "<table border=\"1\" class=\"dataframe\">\n",
       "  <thead>\n",
       "    <tr style=\"text-align: right;\">\n",
       "      <th></th>\n",
       "      <th>age</th>\n",
       "      <th>sex</th>\n",
       "      <th>bmi</th>\n",
       "      <th>children</th>\n",
       "      <th>smoker</th>\n",
       "      <th>region</th>\n",
       "      <th>predicted_charges</th>\n",
       "    </tr>\n",
       "  </thead>\n",
       "  <tbody>\n",
       "    <tr>\n",
       "      <th>0</th>\n",
       "      <td>18.0</td>\n",
       "      <td>female</td>\n",
       "      <td>24.090000</td>\n",
       "      <td>1.0</td>\n",
       "      <td>no</td>\n",
       "      <td>southeast</td>\n",
       "      <td>128624.195643</td>\n",
       "    </tr>\n",
       "    <tr>\n",
       "      <th>1</th>\n",
       "      <td>39.0</td>\n",
       "      <td>male</td>\n",
       "      <td>26.410000</td>\n",
       "      <td>0.0</td>\n",
       "      <td>yes</td>\n",
       "      <td>northeast</td>\n",
       "      <td>220740.537449</td>\n",
       "    </tr>\n",
       "    <tr>\n",
       "      <th>2</th>\n",
       "      <td>27.0</td>\n",
       "      <td>male</td>\n",
       "      <td>29.150000</td>\n",
       "      <td>0.0</td>\n",
       "      <td>yes</td>\n",
       "      <td>southeast</td>\n",
       "      <td>181357.588606</td>\n",
       "    </tr>\n",
       "    <tr>\n",
       "      <th>3</th>\n",
       "      <td>71.0</td>\n",
       "      <td>male</td>\n",
       "      <td>65.502135</td>\n",
       "      <td>13.0</td>\n",
       "      <td>yes</td>\n",
       "      <td>southeast</td>\n",
       "      <td>423490.687270</td>\n",
       "    </tr>\n",
       "    <tr>\n",
       "      <th>4</th>\n",
       "      <td>28.0</td>\n",
       "      <td>male</td>\n",
       "      <td>38.060000</td>\n",
       "      <td>0.0</td>\n",
       "      <td>no</td>\n",
       "      <td>southeast</td>\n",
       "      <td>193247.431989</td>\n",
       "    </tr>\n",
       "  </tbody>\n",
       "</table>\n",
       "</div>"
      ],
      "text/plain": [
       "    age     sex        bmi  children smoker     region  predicted_charges\n",
       "0  18.0  female  24.090000       1.0     no  southeast      128624.195643\n",
       "1  39.0    male  26.410000       0.0    yes  northeast      220740.537449\n",
       "2  27.0    male  29.150000       0.0    yes  southeast      181357.588606\n",
       "3  71.0    male  65.502135      13.0    yes  southeast      423490.687270\n",
       "4  28.0    male  38.060000       0.0     no  southeast      193247.431989"
      ]
     },
     "execution_count": 14,
     "metadata": {},
     "output_type": "execute_result"
    }
   ],
   "source": [
    "validation_data.head()"
   ]
  },
  {
   "cell_type": "code",
   "execution_count": 15,
   "id": "cc143f4e",
   "metadata": {
    "execution": {
     "iopub.execute_input": "2024-06-25T06:01:33.708048Z",
     "iopub.status.busy": "2024-06-25T06:01:33.707646Z",
     "iopub.status.idle": "2024-06-25T06:01:33.713626Z",
     "shell.execute_reply": "2024-06-25T06:01:33.712489Z"
    },
    "papermill": {
     "duration": 0.019163,
     "end_time": "2024-06-25T06:01:33.716086",
     "exception": false,
     "start_time": "2024-06-25T06:01:33.696923",
     "status": "completed"
    },
    "tags": []
   },
   "outputs": [],
   "source": [
    "# Ensure minimum charge is $1000\n",
    "min_charge = 1000\n",
    "validation_data['predicted_charges'] = validation_data['predicted_charges'].apply(lambda x: max(x, min_charge))"
   ]
  },
  {
   "cell_type": "code",
   "execution_count": 16,
   "id": "a4634c23",
   "metadata": {
    "execution": {
     "iopub.execute_input": "2024-06-25T06:01:33.736279Z",
     "iopub.status.busy": "2024-06-25T06:01:33.735842Z",
     "iopub.status.idle": "2024-06-25T06:01:33.751705Z",
     "shell.execute_reply": "2024-06-25T06:01:33.750606Z"
    },
    "papermill": {
     "duration": 0.028666,
     "end_time": "2024-06-25T06:01:33.754033",
     "exception": false,
     "start_time": "2024-06-25T06:01:33.725367",
     "status": "completed"
    },
    "tags": []
   },
   "outputs": [
    {
     "data": {
      "text/html": [
       "<div>\n",
       "<style scoped>\n",
       "    .dataframe tbody tr th:only-of-type {\n",
       "        vertical-align: middle;\n",
       "    }\n",
       "\n",
       "    .dataframe tbody tr th {\n",
       "        vertical-align: top;\n",
       "    }\n",
       "\n",
       "    .dataframe thead th {\n",
       "        text-align: right;\n",
       "    }\n",
       "</style>\n",
       "<table border=\"1\" class=\"dataframe\">\n",
       "  <thead>\n",
       "    <tr style=\"text-align: right;\">\n",
       "      <th></th>\n",
       "      <th>age</th>\n",
       "      <th>sex</th>\n",
       "      <th>bmi</th>\n",
       "      <th>children</th>\n",
       "      <th>smoker</th>\n",
       "      <th>region</th>\n",
       "      <th>predicted_charges</th>\n",
       "    </tr>\n",
       "  </thead>\n",
       "  <tbody>\n",
       "    <tr>\n",
       "      <th>0</th>\n",
       "      <td>18.0</td>\n",
       "      <td>female</td>\n",
       "      <td>24.090000</td>\n",
       "      <td>1.0</td>\n",
       "      <td>no</td>\n",
       "      <td>southeast</td>\n",
       "      <td>128624.195643</td>\n",
       "    </tr>\n",
       "    <tr>\n",
       "      <th>1</th>\n",
       "      <td>39.0</td>\n",
       "      <td>male</td>\n",
       "      <td>26.410000</td>\n",
       "      <td>0.0</td>\n",
       "      <td>yes</td>\n",
       "      <td>northeast</td>\n",
       "      <td>220740.537449</td>\n",
       "    </tr>\n",
       "    <tr>\n",
       "      <th>2</th>\n",
       "      <td>27.0</td>\n",
       "      <td>male</td>\n",
       "      <td>29.150000</td>\n",
       "      <td>0.0</td>\n",
       "      <td>yes</td>\n",
       "      <td>southeast</td>\n",
       "      <td>181357.588606</td>\n",
       "    </tr>\n",
       "    <tr>\n",
       "      <th>3</th>\n",
       "      <td>71.0</td>\n",
       "      <td>male</td>\n",
       "      <td>65.502135</td>\n",
       "      <td>13.0</td>\n",
       "      <td>yes</td>\n",
       "      <td>southeast</td>\n",
       "      <td>423490.687270</td>\n",
       "    </tr>\n",
       "    <tr>\n",
       "      <th>4</th>\n",
       "      <td>28.0</td>\n",
       "      <td>male</td>\n",
       "      <td>38.060000</td>\n",
       "      <td>0.0</td>\n",
       "      <td>no</td>\n",
       "      <td>southeast</td>\n",
       "      <td>193247.431989</td>\n",
       "    </tr>\n",
       "  </tbody>\n",
       "</table>\n",
       "</div>"
      ],
      "text/plain": [
       "    age     sex        bmi  children smoker     region  predicted_charges\n",
       "0  18.0  female  24.090000       1.0     no  southeast      128624.195643\n",
       "1  39.0    male  26.410000       0.0    yes  northeast      220740.537449\n",
       "2  27.0    male  29.150000       0.0    yes  southeast      181357.588606\n",
       "3  71.0    male  65.502135      13.0    yes  southeast      423490.687270\n",
       "4  28.0    male  38.060000       0.0     no  southeast      193247.431989"
      ]
     },
     "execution_count": 16,
     "metadata": {},
     "output_type": "execute_result"
    }
   ],
   "source": [
    "validation_data.head()"
   ]
  },
  {
   "cell_type": "markdown",
   "id": "85914dd5",
   "metadata": {
    "papermill": {
     "duration": 0.009253,
     "end_time": "2024-06-25T06:01:33.772957",
     "exception": false,
     "start_time": "2024-06-25T06:01:33.763704",
     "status": "completed"
    },
    "tags": []
   },
   "source": []
  }
 ],
 "metadata": {
  "kaggle": {
   "accelerator": "none",
   "dataSources": [
    {
     "datasetId": 4786000,
     "sourceId": 8103775,
     "sourceType": "datasetVersion"
    },
    {
     "datasetId": 4786002,
     "sourceId": 8103777,
     "sourceType": "datasetVersion"
    }
   ],
   "dockerImageVersionId": 30684,
   "isGpuEnabled": false,
   "isInternetEnabled": true,
   "language": "python",
   "sourceType": "notebook"
  },
  "kernelspec": {
   "display_name": "Python 3",
   "language": "python",
   "name": "python3"
  },
  "language_info": {
   "codemirror_mode": {
    "name": "ipython",
    "version": 3
   },
   "file_extension": ".py",
   "mimetype": "text/x-python",
   "name": "python",
   "nbconvert_exporter": "python",
   "pygments_lexer": "ipython3",
   "version": "3.10.13"
  },
  "papermill": {
   "default_parameters": {},
   "duration": 7.056057,
   "end_time": "2024-06-25T06:01:34.404480",
   "environment_variables": {},
   "exception": null,
   "input_path": "__notebook__.ipynb",
   "output_path": "__notebook__.ipynb",
   "parameters": {},
   "start_time": "2024-06-25T06:01:27.348423",
   "version": "2.5.0"
  }
 },
 "nbformat": 4,
 "nbformat_minor": 5
}
